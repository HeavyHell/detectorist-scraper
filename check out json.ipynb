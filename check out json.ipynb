{
 "cells": [
  {
   "cell_type": "code",
   "execution_count": 1,
   "metadata": {
    "collapsed": true
   },
   "outputs": [],
   "source": [
    "import pandas as pd"
   ]
  },
  {
   "cell_type": "code",
   "execution_count": 3,
   "metadata": {
    "collapsed": false
   },
   "outputs": [
    {
     "data": {
      "text/html": [
       "<div>\n",
       "<table border=\"1\" class=\"dataframe\">\n",
       "  <thead>\n",
       "    <tr style=\"text-align: right;\">\n",
       "      <th></th>\n",
       "      <th>message</th>\n",
       "      <th>post_no</th>\n",
       "      <th>timestamp</th>\n",
       "      <th>user_id</th>\n",
       "    </tr>\n",
       "  </thead>\n",
       "  <tbody>\n",
       "    <tr>\n",
       "      <th>0</th>\n",
       "      <td>\\r\\n\\t\\t\\t\\r\\n\\t\\t\\tI don't mean gold in river...</td>\n",
       "      <td>1</td>\n",
       "      <td>2016-02-04 08:54:00</td>\n",
       "      <td>42653</td>\n",
       "    </tr>\n",
       "    <tr>\n",
       "      <th>1</th>\n",
       "      <td>\\r\\n\\t\\t\\t\\r\\n\\t\\t\\tI don't personally unless ...</td>\n",
       "      <td>2</td>\n",
       "      <td>2016-02-04 08:58:00</td>\n",
       "      <td>15903</td>\n",
       "    </tr>\n",
       "    <tr>\n",
       "      <th>2</th>\n",
       "      <td>\\r\\n\\t\\t\\t\\r\\n\\t\\t\\tUsually I start off with g...</td>\n",
       "      <td>3</td>\n",
       "      <td>2016-02-04 08:59:00</td>\n",
       "      <td>39482</td>\n",
       "    </tr>\n",
       "    <tr>\n",
       "      <th>3</th>\n",
       "      <td>\\r\\n\\t\\t\\t\\r\\n\\t\\t\\tNow and then I will go out...</td>\n",
       "      <td>4</td>\n",
       "      <td>2016-02-04 09:08:00</td>\n",
       "      <td>8368</td>\n",
       "    </tr>\n",
       "    <tr>\n",
       "      <th>4</th>\n",
       "      <td>\\r\\n\\t\\t\\t\\r\\n\\t\\t\\tBCD, it depends on where y...</td>\n",
       "      <td>5</td>\n",
       "      <td>2016-02-04 09:26:00</td>\n",
       "      <td>34409</td>\n",
       "    </tr>\n",
       "  </tbody>\n",
       "</table>\n",
       "</div>"
      ],
      "text/plain": [
       "                                             message  post_no  \\\n",
       "0  \\r\\n\\t\\t\\t\\r\\n\\t\\t\\tI don't mean gold in river...        1   \n",
       "1  \\r\\n\\t\\t\\t\\r\\n\\t\\t\\tI don't personally unless ...        2   \n",
       "2  \\r\\n\\t\\t\\t\\r\\n\\t\\t\\tUsually I start off with g...        3   \n",
       "3  \\r\\n\\t\\t\\t\\r\\n\\t\\t\\tNow and then I will go out...        4   \n",
       "4  \\r\\n\\t\\t\\t\\r\\n\\t\\t\\tBCD, it depends on where y...        5   \n",
       "\n",
       "            timestamp  user_id  \n",
       "0 2016-02-04 08:54:00    42653  \n",
       "1 2016-02-04 08:58:00    15903  \n",
       "2 2016-02-04 08:59:00    39482  \n",
       "3 2016-02-04 09:08:00     8368  \n",
       "4 2016-02-04 09:26:00    34409  "
      ]
     },
     "execution_count": 3,
     "metadata": {},
     "output_type": "execute_result"
    }
   ],
   "source": [
    "thread = pd.read_json(\"test.json\")\n",
    "thread.head()"
   ]
  },
  {
   "cell_type": "code",
   "execution_count": 7,
   "metadata": {
    "collapsed": false
   },
   "outputs": [],
   "source": [
    "thread.message = [s.strip() for s in thread.message]"
   ]
  },
  {
   "cell_type": "code",
   "execution_count": 8,
   "metadata": {
    "collapsed": false
   },
   "outputs": [
    {
     "data": {
      "text/html": [
       "<div>\n",
       "<table border=\"1\" class=\"dataframe\">\n",
       "  <thead>\n",
       "    <tr style=\"text-align: right;\">\n",
       "      <th></th>\n",
       "      <th>message</th>\n",
       "      <th>post_no</th>\n",
       "      <th>timestamp</th>\n",
       "      <th>user_id</th>\n",
       "    </tr>\n",
       "  </thead>\n",
       "  <tbody>\n",
       "    <tr>\n",
       "      <th>0</th>\n",
       "      <td>I don't mean gold in rivers, but actually take...</td>\n",
       "      <td>1</td>\n",
       "      <td>2016-02-04 08:54:00</td>\n",
       "      <td>42653</td>\n",
       "    </tr>\n",
       "    <tr>\n",
       "      <th>1</th>\n",
       "      <td>I don't personally unless I think it's a nicke...</td>\n",
       "      <td>2</td>\n",
       "      <td>2016-02-04 08:58:00</td>\n",
       "      <td>15903</td>\n",
       "    </tr>\n",
       "    <tr>\n",
       "      <th>2</th>\n",
       "      <td>Usually I start off with good intentions and a...</td>\n",
       "      <td>3</td>\n",
       "      <td>2016-02-04 08:59:00</td>\n",
       "      <td>39482</td>\n",
       "    </tr>\n",
       "    <tr>\n",
       "      <th>3</th>\n",
       "      <td>Now and then I will go out speciffically to di...</td>\n",
       "      <td>4</td>\n",
       "      <td>2016-02-04 09:08:00</td>\n",
       "      <td>8368</td>\n",
       "    </tr>\n",
       "    <tr>\n",
       "      <th>4</th>\n",
       "      <td>BCD, it depends on where you're hunting.  If a...</td>\n",
       "      <td>5</td>\n",
       "      <td>2016-02-04 09:26:00</td>\n",
       "      <td>34409</td>\n",
       "    </tr>\n",
       "  </tbody>\n",
       "</table>\n",
       "</div>"
      ],
      "text/plain": [
       "                                             message  post_no  \\\n",
       "0  I don't mean gold in rivers, but actually take...        1   \n",
       "1  I don't personally unless I think it's a nicke...        2   \n",
       "2  Usually I start off with good intentions and a...        3   \n",
       "3  Now and then I will go out speciffically to di...        4   \n",
       "4  BCD, it depends on where you're hunting.  If a...        5   \n",
       "\n",
       "            timestamp  user_id  \n",
       "0 2016-02-04 08:54:00    42653  \n",
       "1 2016-02-04 08:58:00    15903  \n",
       "2 2016-02-04 08:59:00    39482  \n",
       "3 2016-02-04 09:08:00     8368  \n",
       "4 2016-02-04 09:26:00    34409  "
      ]
     },
     "execution_count": 8,
     "metadata": {},
     "output_type": "execute_result"
    }
   ],
   "source": [
    "thread.head()"
   ]
  },
  {
   "cell_type": "code",
   "execution_count": 13,
   "metadata": {
    "collapsed": false
   },
   "outputs": [
    {
     "name": "stdout",
     "output_type": "stream",
     "text": [
      "I don't mean gold in rivers, but actually take the time to dig PT signals to try to get gold jewelry.  It seems like it is a lot of kissing frogs to get gold and I just wondered who tries it vs ignoring those signals. \n",
      "\n",
      "I don't personally unless I think it's a nickel. However, a guy in our club decided to dig every tone from 35 to 75 on his AT pro and he has found over 50 rings in the past few months. A few of them are gold as well. Pretty impressive but not for me. \n",
      "\n",
      "Usually I start off with good intentions and after the first few hours or a 100  pull tabs, foil, and can laws later my detector somehow notches out everything below 80 and I cherry pick. \n",
      "\n",
      "Now and then I will go out speciffically to dig possible gold targets and ignore all others but this so far hasnt resulted in anything but a pouch full of pulltabs , nickels and can slaw.....though if you want to find gold this is the way to do it. Most of the time I only dig a percentage of the possible gold signals , maybe every fourth or fifth one , this gives me still the chance of getting gold yet I dont spend the whole time digging trash and I usually wind up having enough time to nab a bunch of coins to show for my effort. I do want gold , but I have accepted that I may be passing some up.....atleast for now , since I will hunt that same area many times in the future. \n",
      "\n",
      "BCD, it depends on where you're hunting.  If a person is at the beach (esp. after a storm when all the light stuff is washed out, leaving only heavy targets behind), then OF COURSE you dig PT signals \n",
      "\n"
     ]
    }
   ],
   "source": [
    "for i in range(5):\n",
    "    print thread.message.iloc[i], '\\n'"
   ]
  },
  {
   "cell_type": "code",
   "execution_count": 14,
   "metadata": {
    "collapsed": false
   },
   "outputs": [
    {
     "data": {
      "text/html": [
       "<div>\n",
       "<table border=\"1\" class=\"dataframe\">\n",
       "  <thead>\n",
       "    <tr style=\"text-align: right;\">\n",
       "      <th></th>\n",
       "      <th>message</th>\n",
       "      <th>post_no</th>\n",
       "      <th>timestamp</th>\n",
       "      <th>user_id</th>\n",
       "    </tr>\n",
       "  </thead>\n",
       "  <tbody>\n",
       "    <tr>\n",
       "      <th>0</th>\n",
       "      <td>I don't mean gold in rivers, but actually take...</td>\n",
       "      <td>1</td>\n",
       "      <td>2016-02-04 08:54:00</td>\n",
       "      <td>42653</td>\n",
       "    </tr>\n",
       "    <tr>\n",
       "      <th>1</th>\n",
       "      <td>I don't personally unless I think it's a nicke...</td>\n",
       "      <td>2</td>\n",
       "      <td>2016-02-04 08:58:00</td>\n",
       "      <td>15903</td>\n",
       "    </tr>\n",
       "    <tr>\n",
       "      <th>2</th>\n",
       "      <td>Usually I start off with good intentions and a...</td>\n",
       "      <td>3</td>\n",
       "      <td>2016-02-04 08:59:00</td>\n",
       "      <td>39482</td>\n",
       "    </tr>\n",
       "    <tr>\n",
       "      <th>3</th>\n",
       "      <td>Now and then I will go out speciffically to di...</td>\n",
       "      <td>4</td>\n",
       "      <td>2016-02-04 09:08:00</td>\n",
       "      <td>8368</td>\n",
       "    </tr>\n",
       "    <tr>\n",
       "      <th>4</th>\n",
       "      <td>BCD, it depends on where you're hunting.  If a...</td>\n",
       "      <td>5</td>\n",
       "      <td>2016-02-04 09:26:00</td>\n",
       "      <td>34409</td>\n",
       "    </tr>\n",
       "  </tbody>\n",
       "</table>\n",
       "</div>"
      ],
      "text/plain": [
       "                                             message  post_no  \\\n",
       "0  I don't mean gold in rivers, but actually take...        1   \n",
       "1  I don't personally unless I think it's a nicke...        2   \n",
       "2  Usually I start off with good intentions and a...        3   \n",
       "3  Now and then I will go out speciffically to di...        4   \n",
       "4  BCD, it depends on where you're hunting.  If a...        5   \n",
       "\n",
       "            timestamp  user_id  \n",
       "0 2016-02-04 08:54:00    42653  \n",
       "1 2016-02-04 08:58:00    15903  \n",
       "2 2016-02-04 08:59:00    39482  \n",
       "3 2016-02-04 09:08:00     8368  \n",
       "4 2016-02-04 09:26:00    34409  "
      ]
     },
     "execution_count": 14,
     "metadata": {},
     "output_type": "execute_result"
    }
   ],
   "source": [
    "thread2 = pd.read_json(\"test2.json\")\n",
    "thread2.head()"
   ]
  },
  {
   "cell_type": "code",
   "execution_count": null,
   "metadata": {
    "collapsed": true
   },
   "outputs": [],
   "source": []
  }
 ],
 "metadata": {
  "kernelspec": {
   "display_name": "Python 2",
   "language": "python",
   "name": "python2"
  },
  "language_info": {
   "codemirror_mode": {
    "name": "ipython",
    "version": 2
   },
   "file_extension": ".py",
   "mimetype": "text/x-python",
   "name": "python",
   "nbconvert_exporter": "python",
   "pygments_lexer": "ipython2",
   "version": "2.7.11"
  }
 },
 "nbformat": 4,
 "nbformat_minor": 0
}
